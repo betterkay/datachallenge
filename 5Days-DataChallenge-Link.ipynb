{
 "cells": [
  {
   "cell_type": "markdown",
   "metadata": {},
   "source": [
    "## This is a 5 days data challenge -- From Kaggle \n",
    "\n",
    "### Thanks for the instructor: [Rachael Tatman](https://www.kaggle.com/rtatman)\n",
    "\n",
    "Day1: [Handling missing values](https://www.kaggle.com/rtatman/data-cleaning-challenge-handling-missing-values?utm_medium=email&utm_source=mailchimp&utm_campaign=5DDC-data-cleaning)\n",
    "\n",
    "Day2: [Scale and Normalize Data](https://www.kaggle.com/rtatman/data-cleaning-challenge-scale-and-normalize-data?utm_medium=email&utm_source=mailchimp&utm_campaign=5DDC-data-cleaning)\n",
    "\n",
    "Day3: [Parsing Dates](https://www.kaggle.com/rtatman/data-cleaning-challenge-parsing-dates/?utm_medium=email&utm_source=mailchimp&utm_campaign=5DDC-data-cleaning)\n",
    "\n",
    "Day4: [Character Encodings](https://www.kaggle.com/rtatman/data-cleaning-challenge-character-encodings/?utm_medium=email&utm_source=mailchimp&utm_campaign=5DDC-data-cleaning)\n",
    "\n",
    "Day5: [Inconsistent Data Entry](https://www.kaggle.com/rtatman/data-cleaning-challenge-inconsistent-data-entry/notebook)\n"
   ]
  },
  {
   "cell_type": "code",
   "execution_count": null,
   "metadata": {},
   "outputs": [],
   "source": []
  }
 ],
 "metadata": {
  "kernelspec": {
   "display_name": "python3.6",
   "language": "python",
   "name": "python3.6"
  },
  "language_info": {
   "codemirror_mode": {
    "name": "ipython",
    "version": 3
   },
   "file_extension": ".py",
   "mimetype": "text/x-python",
   "name": "python",
   "nbconvert_exporter": "python",
   "pygments_lexer": "ipython3",
   "version": "3.6.4"
  }
 },
 "nbformat": 4,
 "nbformat_minor": 2
}
